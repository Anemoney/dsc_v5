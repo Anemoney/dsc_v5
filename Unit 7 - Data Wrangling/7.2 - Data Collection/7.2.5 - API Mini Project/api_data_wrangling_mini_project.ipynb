{
 "cells": [
  {
   "cell_type": "markdown",
   "metadata": {},
   "source": [
    "This exercise will require you to pull some data from https://data.nasdaq.com/ (formerly Quandl API)."
   ]
  },
  {
   "cell_type": "markdown",
   "metadata": {},
   "source": [
    "As a first step, you will need to register a free account on the https://data.nasdaq.com/ website."
   ]
  },
  {
   "cell_type": "markdown",
   "metadata": {},
   "source": [
    "After you register, you will be provided with a unique API key, that you should store:\n",
    "\n",
    "*Note*: Use a `.env` file and put your key in there and `python-dotenv` to access it in this notebook. \n",
    "\n",
    "The code below uses a key that was used when generating this project but has since been deleted. Never submit your keys to source control. There is a `.env-example` file in this repository to illusrtate what you need. Copy that to a file called `.env` and use your own api key in that `.env` file. Make sure you also have a `.gitignore` file with a line for `.env` added to it. \n",
    "\n",
    "The standard Python gitignore is [here](https://github.com/github/gitignore/blob/master/Python.gitignore) you can just copy that. "
   ]
  },
  {
   "cell_type": "code",
   "execution_count": 1,
   "metadata": {},
   "outputs": [
    {
     "name": "stdout",
     "output_type": "stream",
     "text": [
      "K_pU8sYy6BXHq-YYhCsM\n"
     ]
    }
   ],
   "source": [
    "# get api key from your .env file\n",
    "import os\n",
    "from dotenv import load_dotenv\n",
    "\n",
    "load_dotenv()\n",
    "API_KEY = os.getenv('NASDAQ_API_KEY')\n",
    "\n",
    "print(API_KEY)"
   ]
  },
  {
   "cell_type": "markdown",
   "metadata": {},
   "source": [
    "Nasdaq Data has a large number of data sources, but, unfortunately, most of them require a Premium subscription. Still, there are also a good number of free datasets."
   ]
  },
  {
   "cell_type": "markdown",
   "metadata": {},
   "source": [
    "For this mini project, we will focus on equities data from the Frankfurt Stock Exhange (FSE), which is available for free. We'll try and analyze the stock prices of a company called Carl Zeiss Meditec, which manufactures tools for eye examinations, as well as medical lasers for laser eye surgery: https://www.zeiss.com/meditec/int/home.html. The company is listed under the stock ticker AFX_X."
   ]
  },
  {
   "cell_type": "markdown",
   "metadata": {},
   "source": [
    "You can find the detailed Nasdaq Data API instructions here: https://docs.data.nasdaq.com/docs/in-depth-usage"
   ]
  },
  {
   "cell_type": "markdown",
   "metadata": {},
   "source": [
    "While there is a dedicated Python package for connecting to the Nasdaq API, we would prefer that you use the *requests* package, which can be easily downloaded using *pip* or *conda*. You can find the documentation for the package here: http://docs.python-requests.org/en/master/ "
   ]
  },
  {
   "cell_type": "markdown",
   "metadata": {},
   "source": [
    "Finally, apart from the *requests* package, you are encouraged to not use any third party Python packages, such as *pandas*, and instead focus on what's available in the Python Standard Library (the *collections* module might come in handy: https://pymotw.com/3/collections/).\n",
    "Also, since you won't have access to DataFrames, you are encouraged to us Python's native data structures - preferably dictionaries, though some questions can also be answered using lists.\n",
    "You can read more on these data structures here: https://docs.python.org/3/tutorial/datastructures.html"
   ]
  },
  {
   "cell_type": "markdown",
   "metadata": {},
   "source": [
    "Keep in mind that the JSON responses you will be getting from the API map almost one-to-one to Python's dictionaries. Unfortunately, they can be very nested, so make sure you read up on indexing dictionaries in the documentation provided above."
   ]
  },
  {
   "cell_type": "code",
   "execution_count": 2,
   "metadata": {},
   "outputs": [],
   "source": [
    "# First, import the relevant modules\n",
    "import requests\n",
    "import json"
   ]
  },
  {
   "cell_type": "markdown",
   "metadata": {},
   "source": [
    "Note: API's can change a bit with each version, for this exercise it is reccomended to use the nasdaq api at `https://data.nasdaq.com/api/v3/`. This is the same api as what used to be quandl so `https://www.quandl.com/api/v3/` should work too.\n",
    "\n",
    "Hint: We are looking for the `AFX_X` data on the `datasets/FSE/` dataset."
   ]
  },
  {
   "cell_type": "code",
   "execution_count": 3,
   "metadata": {},
   "outputs": [
    {
     "name": "stdout",
     "output_type": "stream",
     "text": [
      "['2017-12-29', 51.76, 51.94, 51.45, 51.76, None, 34640.0, 1792304.0, None, None, None]\n"
     ]
    }
   ],
   "source": [
    "# Now, call the Nasdaq API and pull out a small sample of the data (only one day) to get a glimpse\n",
    "# into the JSON structure that will be returned\n",
    "url = 'https://data.nasdaq.com/api/v3/datasets/FSE/AFX_X.json?start_date=2017-01-01&end_date=2018-01-01&order=desc&api_key=K_pU8sYy6BXHq-YYhCsM'\n",
    "r = requests.get(url)\n",
    "json_data = r.json()\n",
    "\n",
    "# Data sample for a day\n",
    "print(json_data['dataset']['data'][0])"
   ]
  },
  {
   "cell_type": "code",
   "execution_count": 4,
   "metadata": {},
   "outputs": [],
   "source": [
    "# Dataset for AFX_X\n",
    "json_dumps = json.dumps(json_data, indent=2)"
   ]
  },
  {
   "cell_type": "code",
   "execution_count": 5,
   "metadata": {},
   "outputs": [],
   "source": [
    "# organize access to price data from dataset\n",
    "\n",
    "afx_x_2017 = {\n",
    "    'raw_data': json_data,\n",
    "    'columns': json_data['dataset']['column_names'][:],\n",
    "    'data': json_data['dataset']['data'][:]\n",
    "}\n"
   ]
  },
  {
   "cell_type": "code",
   "execution_count": 6,
   "metadata": {
    "scrolled": true
   },
   "outputs": [],
   "source": [
    "# list of the names of the pertinent columns\n",
    "afx_x_col = afx_x_2017['columns']\n",
    "\n",
    "# list of the lists of price data\n",
    "afx_x_data = afx_x_2017['data']"
   ]
  },
  {
   "cell_type": "code",
   "execution_count": 7,
   "metadata": {
    "scrolled": true
   },
   "outputs": [],
   "source": [
    "# Empty dictionary to insert 2017 data for AFX_X by date\n",
    "afx_x_dict = {}\n",
    "\n",
    "# Fill in the empty dictionary above\n",
    "for row in afx_x_data:\n",
    "    data_row_dict = dict(zip(afx_x_col, row))\n",
    "    afx_x_dict[data_row_dict['Date']] = data_row_dict"
   ]
  },
  {
   "cell_type": "code",
   "execution_count": 8,
   "metadata": {},
   "outputs": [],
   "source": [
    "# Inspect the JSON structure of the object you created, and take note of how nested it is,\n",
    "# as well as the overall structure"
   ]
  },
  {
   "cell_type": "markdown",
   "metadata": {},
   "source": [
    "These are your tasks for this mini project:\n",
    "\n",
    "1. Collect data from the Franfurt Stock Exchange, for the ticker AFX_X, for the whole year 2017 (keep in mind that the date format is YYYY-MM-DD).\n",
    "2. Convert the returned JSON object into a Python dictionary.\n",
    "3. Calculate what the highest and lowest opening prices were for the stock in this period.\n",
    "4. What was the largest change in any one day (based on High and Low price)?\n",
    "5. What was the largest change between any two days (based on Closing Price)?\n",
    "6. What was the average daily trading volume during this year?\n",
    "7. (Optional) What was the median trading volume during this year. (Note: you may need to implement your own function for calculating the median.)"
   ]
  },
  {
   "cell_type": "code",
   "execution_count": 9,
   "metadata": {},
   "outputs": [
    {
     "name": "stdout",
     "output_type": "stream",
     "text": [
      "The highest opening price for 2017 was on 2017-12-14 at 53.11\n",
      "The lowest opening price for 2017 was on 2017-01-24 at 34.0\n"
     ]
    }
   ],
   "source": [
    "# Calculating the highest and lowest opening prices for 2017\n",
    "\n",
    "# Dictionary comprehension of opening prices by date\n",
    "opening_prices = {k:v['Open'] for k, v in afx_x_dict.items() if v['Open'] != None}\n",
    "\n",
    "# max opening value\n",
    "afx_x_max_ov = max(opening_prices.values())\n",
    "\n",
    "# key of max opening value\n",
    "afx_x_max_ok = max(opening_prices, key= lambda key: opening_prices[key])\n",
    "\n",
    "# min opening value\n",
    "afx_x_min_ov = min(opening_prices.values())\n",
    "\n",
    "# key of min opening value\n",
    "afx_x_min_ok = min(opening_prices, key= lambda key: opening_prices[key])\n",
    "\n",
    "\n",
    "print(f'The highest opening price for 2017 was on', afx_x_max_ok, 'at', afx_x_max_ov)\n",
    "print(f'The lowest opening price for 2017 was on', afx_x_min_ok, 'at', afx_x_min_ov)"
   ]
  },
  {
   "cell_type": "code",
   "execution_count": 10,
   "metadata": {},
   "outputs": [
    {
     "name": "stdout",
     "output_type": "stream",
     "text": [
      "The highest one day change in price was on 2017-05-11 for 2.81\n"
     ]
    }
   ],
   "source": [
    "# Largest change in any one day based on high and low price\n",
    "\n",
    "# library of change in share price by day in 2017\n",
    "day_change = {k:abs(v['High'] - v['Low']) for k, v in afx_x_dict.items()}\n",
    "\n",
    "# max change in one day\n",
    "afx_x_max_ch = max(day_change.values())\n",
    "\n",
    "# key of max change in one day\n",
    "afx_x_max_ch_k = max(day_change, key= lambda key: day_change[key])\n",
    "\n",
    "\n",
    "print(f'The highest one day change in price was on', afx_x_max_ch_k, 'for', round(afx_x_max_ch, 2))"
   ]
  },
  {
   "cell_type": "code",
   "execution_count": 11,
   "metadata": {},
   "outputs": [
    {
     "name": "stdout",
     "output_type": "stream",
     "text": [
      "The largest change in closing price between any two days during 2017 was 2.56 between 2017-08-09 & 2017-08-08\n"
     ]
    }
   ],
   "source": [
    "# Largest change between any two days based on closing price\n",
    "\n",
    "\n",
    "# List of dates and closing prices for those dates in 2017\n",
    "dc = list((k,v['Close']) for k, v in afx_x_dict.items())\n",
    "\n",
    "# Empty list to hold tuples with values for change in closing price between 2 days\n",
    "two_day_change = []\n",
    "\n",
    "# Loop to make a tuple with the dates and change in closing price between those dates to add to above list\n",
    "for i in range(len(dc) - 1):\n",
    "    two_dc = (dc[i][0]+' & '+dc[i+1][0], abs(dc[i][1] - dc[i+1][1]))\n",
    "    two_day_change.append(two_dc)\n",
    "\n",
    "# The 2 days with the largest change in closing price    \n",
    "largest_2_dc = max(two_day_change, key=lambda item:item[1])\n",
    "\n",
    "print(f'The largest change in closing price between any two days during 2017 was', round(largest_2_dc[1], 2), 'between', largest_2_dc[0])"
   ]
  },
  {
   "cell_type": "code",
   "execution_count": 12,
   "metadata": {},
   "outputs": [
    {
     "name": "stdout",
     "output_type": "stream",
     "text": [
      "The daily trading volume during 2017 was 89124.34 shares\n"
     ]
    }
   ],
   "source": [
    "# Average daily trading volume during 2017\n",
    "\n",
    "# dictionary of trading volume by day for 2017\n",
    "traded_volume = {k:v['Traded Volume'] for k, v in afx_x_dict.items() if v['Traded Volume'] != None}\n",
    "\n",
    "# average daily trading volume for 2017\n",
    "avg_daily_vol = sum(traded_volume.values()) / len(traded_volume.values())\n",
    "\n",
    "\n",
    "print(f'The daily trading volume during 2017 was', round(avg_daily_vol, 2), 'shares')"
   ]
  },
  {
   "cell_type": "code",
   "execution_count": 13,
   "metadata": {},
   "outputs": [
    {
     "name": "stdout",
     "output_type": "stream",
     "text": [
      "The median trading volume during 2017 was 76286.0 shares\n"
     ]
    }
   ],
   "source": [
    "# Median trading volume during 2017\n",
    "\n",
    "# import median function from statistics module.\n",
    "from statistics import median\n",
    "\n",
    "# median volume for 2017\n",
    "median_vol = median(traded_volume.values())\n",
    "\n",
    "\n",
    "print(f'The median trading volume during 2017 was', median_vol, 'shares')"
   ]
  }
 ],
 "metadata": {
  "interpreter": {
   "hash": "7635eb1b9d0fe97add78a7368b6b431c09bb8ad5c42e437d64abdd99821c31ae"
  },
  "kernelspec": {
   "display_name": "Python 3 (ipykernel)",
   "language": "python",
   "name": "python3"
  },
  "language_info": {
   "codemirror_mode": {
    "name": "ipython",
    "version": 3
   },
   "file_extension": ".py",
   "mimetype": "text/x-python",
   "name": "python",
   "nbconvert_exporter": "python",
   "pygments_lexer": "ipython3",
   "version": "3.9.7"
  }
 },
 "nbformat": 4,
 "nbformat_minor": 4
}
